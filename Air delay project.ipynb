{
 "cells": [
  {
   "cell_type": "code",
   "execution_count": 14,
   "id": "66cb1f95",
   "metadata": {},
   "outputs": [],
   "source": [
    "import pandas as pd \n",
    "import numpy as np\n",
    "import matplotlib.pyplot as plt\n",
    "import seaborn as sns\n",
    "pd.set_option('display.max_column',None)\n",
    "from scipy import stats\n",
    "import statsmodels.api as sm\n",
    "from statsmodels.formula.api import ols\n",
    "import statsmodels.formula.api as smf\n"
   ]
  },
  {
   "cell_type": "code",
   "execution_count": 2,
   "id": "d27915a0",
   "metadata": {},
   "outputs": [
    {
     "data": {
      "text/html": [
       "<div>\n",
       "<style scoped>\n",
       "    .dataframe tbody tr th:only-of-type {\n",
       "        vertical-align: middle;\n",
       "    }\n",
       "\n",
       "    .dataframe tbody tr th {\n",
       "        vertical-align: top;\n",
       "    }\n",
       "\n",
       "    .dataframe thead th {\n",
       "        text-align: right;\n",
       "    }\n",
       "</style>\n",
       "<table border=\"1\" class=\"dataframe\">\n",
       "  <thead>\n",
       "    <tr style=\"text-align: right;\">\n",
       "      <th></th>\n",
       "      <th>Flight</th>\n",
       "      <th>Time</th>\n",
       "      <th>Length</th>\n",
       "      <th>Airline</th>\n",
       "      <th>AirportFrom</th>\n",
       "      <th>AirportTo</th>\n",
       "      <th>DayOfWeek</th>\n",
       "      <th>Class</th>\n",
       "    </tr>\n",
       "  </thead>\n",
       "  <tbody>\n",
       "    <tr>\n",
       "      <th>0</th>\n",
       "      <td>2313.0</td>\n",
       "      <td>1296.0</td>\n",
       "      <td>141.0</td>\n",
       "      <td>DL</td>\n",
       "      <td>ATL</td>\n",
       "      <td>HOU</td>\n",
       "      <td>1</td>\n",
       "      <td>0</td>\n",
       "    </tr>\n",
       "    <tr>\n",
       "      <th>1</th>\n",
       "      <td>6948.0</td>\n",
       "      <td>360.0</td>\n",
       "      <td>146.0</td>\n",
       "      <td>OO</td>\n",
       "      <td>COS</td>\n",
       "      <td>ORD</td>\n",
       "      <td>4</td>\n",
       "      <td>0</td>\n",
       "    </tr>\n",
       "    <tr>\n",
       "      <th>2</th>\n",
       "      <td>1247.0</td>\n",
       "      <td>1170.0</td>\n",
       "      <td>143.0</td>\n",
       "      <td>B6</td>\n",
       "      <td>BOS</td>\n",
       "      <td>CLT</td>\n",
       "      <td>3</td>\n",
       "      <td>0</td>\n",
       "    </tr>\n",
       "    <tr>\n",
       "      <th>3</th>\n",
       "      <td>31.0</td>\n",
       "      <td>1410.0</td>\n",
       "      <td>344.0</td>\n",
       "      <td>US</td>\n",
       "      <td>OGG</td>\n",
       "      <td>PHX</td>\n",
       "      <td>6</td>\n",
       "      <td>0</td>\n",
       "    </tr>\n",
       "    <tr>\n",
       "      <th>4</th>\n",
       "      <td>563.0</td>\n",
       "      <td>692.0</td>\n",
       "      <td>98.0</td>\n",
       "      <td>FL</td>\n",
       "      <td>BMI</td>\n",
       "      <td>ATL</td>\n",
       "      <td>4</td>\n",
       "      <td>0</td>\n",
       "    </tr>\n",
       "    <tr>\n",
       "      <th>...</th>\n",
       "      <td>...</td>\n",
       "      <td>...</td>\n",
       "      <td>...</td>\n",
       "      <td>...</td>\n",
       "      <td>...</td>\n",
       "      <td>...</td>\n",
       "      <td>...</td>\n",
       "      <td>...</td>\n",
       "    </tr>\n",
       "    <tr>\n",
       "      <th>539377</th>\n",
       "      <td>6973.0</td>\n",
       "      <td>530.0</td>\n",
       "      <td>72.0</td>\n",
       "      <td>OO</td>\n",
       "      <td>GEG</td>\n",
       "      <td>SEA</td>\n",
       "      <td>5</td>\n",
       "      <td>1</td>\n",
       "    </tr>\n",
       "    <tr>\n",
       "      <th>539378</th>\n",
       "      <td>1264.0</td>\n",
       "      <td>560.0</td>\n",
       "      <td>115.0</td>\n",
       "      <td>WN</td>\n",
       "      <td>LAS</td>\n",
       "      <td>DEN</td>\n",
       "      <td>4</td>\n",
       "      <td>1</td>\n",
       "    </tr>\n",
       "    <tr>\n",
       "      <th>539379</th>\n",
       "      <td>5209.0</td>\n",
       "      <td>827.0</td>\n",
       "      <td>74.0</td>\n",
       "      <td>EV</td>\n",
       "      <td>CAE</td>\n",
       "      <td>ATL</td>\n",
       "      <td>2</td>\n",
       "      <td>1</td>\n",
       "    </tr>\n",
       "    <tr>\n",
       "      <th>539380</th>\n",
       "      <td>607.0</td>\n",
       "      <td>715.0</td>\n",
       "      <td>65.0</td>\n",
       "      <td>WN</td>\n",
       "      <td>BWI</td>\n",
       "      <td>BUF</td>\n",
       "      <td>4</td>\n",
       "      <td>1</td>\n",
       "    </tr>\n",
       "    <tr>\n",
       "      <th>539381</th>\n",
       "      <td>6377.0</td>\n",
       "      <td>770.0</td>\n",
       "      <td>55.0</td>\n",
       "      <td>OO</td>\n",
       "      <td>CPR</td>\n",
       "      <td>DEN</td>\n",
       "      <td>2</td>\n",
       "      <td>1</td>\n",
       "    </tr>\n",
       "  </tbody>\n",
       "</table>\n",
       "<p>539382 rows × 8 columns</p>\n",
       "</div>"
      ],
      "text/plain": [
       "        Flight    Time  Length Airline AirportFrom AirportTo  DayOfWeek  Class\n",
       "0       2313.0  1296.0   141.0      DL         ATL       HOU          1      0\n",
       "1       6948.0   360.0   146.0      OO         COS       ORD          4      0\n",
       "2       1247.0  1170.0   143.0      B6         BOS       CLT          3      0\n",
       "3         31.0  1410.0   344.0      US         OGG       PHX          6      0\n",
       "4        563.0   692.0    98.0      FL         BMI       ATL          4      0\n",
       "...        ...     ...     ...     ...         ...       ...        ...    ...\n",
       "539377  6973.0   530.0    72.0      OO         GEG       SEA          5      1\n",
       "539378  1264.0   560.0   115.0      WN         LAS       DEN          4      1\n",
       "539379  5209.0   827.0    74.0      EV         CAE       ATL          2      1\n",
       "539380   607.0   715.0    65.0      WN         BWI       BUF          4      1\n",
       "539381  6377.0   770.0    55.0      OO         CPR       DEN          2      1\n",
       "\n",
       "[539382 rows x 8 columns]"
      ]
     },
     "execution_count": 2,
     "metadata": {},
     "output_type": "execute_result"
    }
   ],
   "source": [
    "df=pd.read_csv('airlines_delay.csv')\n",
    "df"
   ]
  },
  {
   "cell_type": "code",
   "execution_count": 3,
   "id": "cb25c25d",
   "metadata": {},
   "outputs": [
    {
     "data": {
      "text/plain": [
       "Flight         0\n",
       "Time           0\n",
       "Length         0\n",
       "Airline        0\n",
       "AirportFrom    0\n",
       "AirportTo      0\n",
       "DayOfWeek      0\n",
       "Class          0\n",
       "dtype: int64"
      ]
     },
     "execution_count": 3,
     "metadata": {},
     "output_type": "execute_result"
    }
   ],
   "source": [
    "df.isnull().sum()"
   ]
  },
  {
   "cell_type": "code",
   "execution_count": 4,
   "id": "a7baab4d",
   "metadata": {},
   "outputs": [
    {
     "data": {
      "text/html": [
       "<div>\n",
       "<style scoped>\n",
       "    .dataframe tbody tr th:only-of-type {\n",
       "        vertical-align: middle;\n",
       "    }\n",
       "\n",
       "    .dataframe tbody tr th {\n",
       "        vertical-align: top;\n",
       "    }\n",
       "\n",
       "    .dataframe thead th {\n",
       "        text-align: right;\n",
       "    }\n",
       "</style>\n",
       "<table border=\"1\" class=\"dataframe\">\n",
       "  <thead>\n",
       "    <tr style=\"text-align: right;\">\n",
       "      <th></th>\n",
       "      <th>Flight</th>\n",
       "      <th>Time</th>\n",
       "      <th>Length</th>\n",
       "      <th>Airline</th>\n",
       "      <th>AirportFrom</th>\n",
       "      <th>AirportTo</th>\n",
       "      <th>DayOfWeek</th>\n",
       "      <th>Class</th>\n",
       "    </tr>\n",
       "  </thead>\n",
       "  <tbody>\n",
       "    <tr>\n",
       "      <th>0</th>\n",
       "      <td>2313.0</td>\n",
       "      <td>1296.0</td>\n",
       "      <td>141.0</td>\n",
       "      <td>DL</td>\n",
       "      <td>ATL</td>\n",
       "      <td>HOU</td>\n",
       "      <td>1</td>\n",
       "      <td>0</td>\n",
       "    </tr>\n",
       "    <tr>\n",
       "      <th>1</th>\n",
       "      <td>6948.0</td>\n",
       "      <td>360.0</td>\n",
       "      <td>146.0</td>\n",
       "      <td>OO</td>\n",
       "      <td>COS</td>\n",
       "      <td>ORD</td>\n",
       "      <td>4</td>\n",
       "      <td>0</td>\n",
       "    </tr>\n",
       "    <tr>\n",
       "      <th>2</th>\n",
       "      <td>1247.0</td>\n",
       "      <td>1170.0</td>\n",
       "      <td>143.0</td>\n",
       "      <td>B6</td>\n",
       "      <td>BOS</td>\n",
       "      <td>CLT</td>\n",
       "      <td>3</td>\n",
       "      <td>0</td>\n",
       "    </tr>\n",
       "    <tr>\n",
       "      <th>3</th>\n",
       "      <td>31.0</td>\n",
       "      <td>1410.0</td>\n",
       "      <td>344.0</td>\n",
       "      <td>US</td>\n",
       "      <td>OGG</td>\n",
       "      <td>PHX</td>\n",
       "      <td>6</td>\n",
       "      <td>0</td>\n",
       "    </tr>\n",
       "    <tr>\n",
       "      <th>4</th>\n",
       "      <td>563.0</td>\n",
       "      <td>692.0</td>\n",
       "      <td>98.0</td>\n",
       "      <td>FL</td>\n",
       "      <td>BMI</td>\n",
       "      <td>ATL</td>\n",
       "      <td>4</td>\n",
       "      <td>0</td>\n",
       "    </tr>\n",
       "  </tbody>\n",
       "</table>\n",
       "</div>"
      ],
      "text/plain": [
       "   Flight    Time  Length Airline AirportFrom AirportTo  DayOfWeek  Class\n",
       "0  2313.0  1296.0   141.0      DL         ATL       HOU          1      0\n",
       "1  6948.0   360.0   146.0      OO         COS       ORD          4      0\n",
       "2  1247.0  1170.0   143.0      B6         BOS       CLT          3      0\n",
       "3    31.0  1410.0   344.0      US         OGG       PHX          6      0\n",
       "4   563.0   692.0    98.0      FL         BMI       ATL          4      0"
      ]
     },
     "execution_count": 4,
     "metadata": {},
     "output_type": "execute_result"
    }
   ],
   "source": [
    "df.head()"
   ]
  },
  {
   "cell_type": "code",
   "execution_count": 5,
   "id": "873bede1",
   "metadata": {},
   "outputs": [
    {
     "data": {
      "text/html": [
       "<div>\n",
       "<style scoped>\n",
       "    .dataframe tbody tr th:only-of-type {\n",
       "        vertical-align: middle;\n",
       "    }\n",
       "\n",
       "    .dataframe tbody tr th {\n",
       "        vertical-align: top;\n",
       "    }\n",
       "\n",
       "    .dataframe thead th {\n",
       "        text-align: right;\n",
       "    }\n",
       "</style>\n",
       "<table border=\"1\" class=\"dataframe\">\n",
       "  <thead>\n",
       "    <tr style=\"text-align: right;\">\n",
       "      <th></th>\n",
       "      <th>Flight</th>\n",
       "      <th>Time</th>\n",
       "      <th>Length</th>\n",
       "      <th>Airline</th>\n",
       "      <th>AirportFrom</th>\n",
       "      <th>AirportTo</th>\n",
       "      <th>DayOfWeek</th>\n",
       "      <th>Class</th>\n",
       "    </tr>\n",
       "  </thead>\n",
       "  <tbody>\n",
       "    <tr>\n",
       "      <th>539377</th>\n",
       "      <td>6973.0</td>\n",
       "      <td>530.0</td>\n",
       "      <td>72.0</td>\n",
       "      <td>OO</td>\n",
       "      <td>GEG</td>\n",
       "      <td>SEA</td>\n",
       "      <td>5</td>\n",
       "      <td>1</td>\n",
       "    </tr>\n",
       "    <tr>\n",
       "      <th>539378</th>\n",
       "      <td>1264.0</td>\n",
       "      <td>560.0</td>\n",
       "      <td>115.0</td>\n",
       "      <td>WN</td>\n",
       "      <td>LAS</td>\n",
       "      <td>DEN</td>\n",
       "      <td>4</td>\n",
       "      <td>1</td>\n",
       "    </tr>\n",
       "    <tr>\n",
       "      <th>539379</th>\n",
       "      <td>5209.0</td>\n",
       "      <td>827.0</td>\n",
       "      <td>74.0</td>\n",
       "      <td>EV</td>\n",
       "      <td>CAE</td>\n",
       "      <td>ATL</td>\n",
       "      <td>2</td>\n",
       "      <td>1</td>\n",
       "    </tr>\n",
       "    <tr>\n",
       "      <th>539380</th>\n",
       "      <td>607.0</td>\n",
       "      <td>715.0</td>\n",
       "      <td>65.0</td>\n",
       "      <td>WN</td>\n",
       "      <td>BWI</td>\n",
       "      <td>BUF</td>\n",
       "      <td>4</td>\n",
       "      <td>1</td>\n",
       "    </tr>\n",
       "    <tr>\n",
       "      <th>539381</th>\n",
       "      <td>6377.0</td>\n",
       "      <td>770.0</td>\n",
       "      <td>55.0</td>\n",
       "      <td>OO</td>\n",
       "      <td>CPR</td>\n",
       "      <td>DEN</td>\n",
       "      <td>2</td>\n",
       "      <td>1</td>\n",
       "    </tr>\n",
       "  </tbody>\n",
       "</table>\n",
       "</div>"
      ],
      "text/plain": [
       "        Flight   Time  Length Airline AirportFrom AirportTo  DayOfWeek  Class\n",
       "539377  6973.0  530.0    72.0      OO         GEG       SEA          5      1\n",
       "539378  1264.0  560.0   115.0      WN         LAS       DEN          4      1\n",
       "539379  5209.0  827.0    74.0      EV         CAE       ATL          2      1\n",
       "539380   607.0  715.0    65.0      WN         BWI       BUF          4      1\n",
       "539381  6377.0  770.0    55.0      OO         CPR       DEN          2      1"
      ]
     },
     "execution_count": 5,
     "metadata": {},
     "output_type": "execute_result"
    }
   ],
   "source": [
    "df.tail()"
   ]
  },
  {
   "cell_type": "code",
   "execution_count": 6,
   "id": "0b9b81e5",
   "metadata": {},
   "outputs": [
    {
     "name": "stdout",
     "output_type": "stream",
     "text": [
      "<class 'pandas.core.frame.DataFrame'>\n",
      "RangeIndex: 539382 entries, 0 to 539381\n",
      "Data columns (total 8 columns):\n",
      " #   Column       Non-Null Count   Dtype  \n",
      "---  ------       --------------   -----  \n",
      " 0   Flight       539382 non-null  float64\n",
      " 1   Time         539382 non-null  float64\n",
      " 2   Length       539382 non-null  float64\n",
      " 3   Airline      539382 non-null  object \n",
      " 4   AirportFrom  539382 non-null  object \n",
      " 5   AirportTo    539382 non-null  object \n",
      " 6   DayOfWeek    539382 non-null  int64  \n",
      " 7   Class        539382 non-null  int64  \n",
      "dtypes: float64(3), int64(2), object(3)\n",
      "memory usage: 32.9+ MB\n"
     ]
    }
   ],
   "source": [
    "df.info()"
   ]
  },
  {
   "cell_type": "code",
   "execution_count": 7,
   "id": "ce851c5d",
   "metadata": {},
   "outputs": [
    {
     "data": {
      "text/plain": [
       "0    299118\n",
       "1    240264\n",
       "Name: Class, dtype: int64"
      ]
     },
     "execution_count": 7,
     "metadata": {},
     "output_type": "execute_result"
    }
   ],
   "source": [
    "df.Class.value_counts()"
   ]
  },
  {
   "cell_type": "code",
   "execution_count": 9,
   "id": "17cc1478",
   "metadata": {},
   "outputs": [
    {
     "data": {
      "text/plain": [
       "Text(0.5, 1.0, 'class')"
      ]
     },
     "execution_count": 9,
     "metadata": {},
     "output_type": "execute_result"
    },
    {
     "data": {
      "image/png": "[encoded data removed]",
      "text/plain": [
       "<Figure size 432x288 with 1 Axes>"
      ]
     },
     "metadata": {
      "needs_background": "light"
     },
     "output_type": "display_data"
    }
   ],
   "source": [
    "sns.countplot(x='Class',data=df)\n",
    "plt.title('class')"
   ]
  },
  {
   "cell_type": "code",
   "execution_count": 11,
   "id": "5eb850c4",
   "metadata": {},
   "outputs": [
    {
     "data": {
      "text/plain": [
       "16.0      420\n",
       "5.0       407\n",
       "9.0       401\n",
       "8.0       396\n",
       "62.0      364\n",
       "         ... \n",
       "7814.0      1\n",
       "4544.0      1\n",
       "5131.0      1\n",
       "6969.0      1\n",
       "3518.0      1\n",
       "Name: Flight, Length: 6585, dtype: int64"
      ]
     },
     "execution_count": 11,
     "metadata": {},
     "output_type": "execute_result"
    }
   ],
   "source": [
    "df.Flight.value_counts()"
   ]
  },
  {
   "cell_type": "code",
   "execution_count": 12,
   "id": "b2710131",
   "metadata": {},
   "outputs": [
    {
     "name": "stderr",
     "output_type": "stream",
     "text": [
      "C:\\Users\\Admin\\anaconda3\\lib\\site-packages\\seaborn\\distributions.py:2619: FutureWarning: `distplot` is a deprecated function and will be removed in a future version. Please adapt your code to use either `displot` (a figure-level function with similar flexibility) or `histplot` (an axes-level function for histograms).\n",
      "  warnings.warn(msg, FutureWarning)\n"
     ]
    },
    {
     "data": {
      "text/plain": [
       "Text(0.5, 1.0, 'Flight')"
      ]
     },
     "execution_count": 12,
     "metadata": {},
     "output_type": "execute_result"
    },
    {
     "data": {
      "image/png": "[encoded data removed]",
      "text/plain": [
       "<Figure size 432x288 with 1 Axes>"
      ]
     },
     "metadata": {
      "needs_background": "light"
     },
     "output_type": "display_data"
    }
   ],
   "source": [
    "sns.distplot(df.Flight)\n",
    "plt.title('Flight')"
   ]
  },
  {
   "cell_type": "code",
   "execution_count": 13,
   "id": "1694e17f",
   "metadata": {},
   "outputs": [
    {
     "name": "stderr",
     "output_type": "stream",
     "text": [
      "C:\\Users\\Admin\\anaconda3\\lib\\site-packages\\seaborn\\_decorators.py:36: FutureWarning: Pass the following variable as a keyword arg: x. From version 0.12, the only valid positional argument will be `data`, and passing other arguments without an explicit keyword will result in an error or misinterpretation.\n",
      "  warnings.warn(\n"
     ]
    },
    {
     "data": {
      "text/plain": [
       "Text(0.5, 1.0, 'Flight')"
      ]
     },
     "execution_count": 13,
     "metadata": {},
     "output_type": "execute_result"
    },
    {
     "data": {
      "image/png": "[encoded data removed]",
      "text/plain": [
       "<Figure size 432x288 with 1 Axes>"
      ]
     },
     "metadata": {
      "needs_background": "light"
     },
     "output_type": "display_data"
    }
   ],
   "source": [
    "sns.boxplot(df.Flight)\n",
    "plt.title('Flight')"
   ]
  },
  {
   "cell_type": "code",
   "execution_count": 15,
   "id": "c7e0d2b1",
   "metadata": {},
   "outputs": [
    {
     "name": "stdout",
     "output_type": "stream",
     "text": [
      "                df        sum_sq       mean_sq           F  PR(>F)\n",
      "Class          1.0  4.915412e+09  4.915412e+09  1152.45426     0.0\n",
      "Residual  539380.0  2.300547e+12  4.265169e+06         NaN     NaN\n"
     ]
    }
   ],
   "source": [
    "annova=ols('Flight ~Class',data=df).fit()\n",
    "an=sm.stats.anova_lm(annova)\n",
    "print(an.round(decimals=5))"
   ]
  },
  {
   "cell_type": "code",
   "execution_count": 17,
   "id": "97f5aa2c",
   "metadata": {},
   "outputs": [
    {
     "data": {
      "text/plain": [
       "360.0     10784\n",
       "420.0      6644\n",
       "390.0      4279\n",
       "480.0      4058\n",
       "450.0      3804\n",
       "          ...  \n",
       "1387.0        1\n",
       "37.0          1\n",
       "44.0          1\n",
       "21.0          1\n",
       "359.0         1\n",
       "Name: Time, Length: 1131, dtype: int64"
      ]
     },
     "execution_count": 17,
     "metadata": {},
     "output_type": "execute_result"
    }
   ],
   "source": [
    "df.Time.value_counts()"
   ]
  },
  {
   "cell_type": "code",
   "execution_count": 18,
   "id": "c94fd6d6",
   "metadata": {},
   "outputs": [
    {
     "name": "stderr",
     "output_type": "stream",
     "text": [
      "C:\\Users\\Admin\\anaconda3\\lib\\site-packages\\seaborn\\distributions.py:2619: FutureWarning: `distplot` is a deprecated function and will be removed in a future version. Please adapt your code to use either `displot` (a figure-level function with similar flexibility) or `histplot` (an axes-level function for histograms).\n",
      "  warnings.warn(msg, FutureWarning)\n"
     ]
    },
    {
     "data": {
      "text/plain": [
       "Text(0.5, 1.0, 'Time')"
      ]
     },
     "execution_count": 18,
     "metadata": {},
     "output_type": "execute_result"
    },
    {
     "data": {
      "image/png": "[encoded data removed]",
      "text/plain": [
       "<Figure size 432x288 with 1 Axes>"
      ]
     },
     "metadata": {
      "needs_background": "light"
     },
     "output_type": "display_data"
    }
   ],
   "source": [
    "sns.distplot(df.Time)\n",
    "plt.title('Time')"
   ]
  },
  {
   "cell_type": "code",
   "execution_count": 19,
   "id": "36212159",
   "metadata": {},
   "outputs": [
    {
     "name": "stderr",
     "output_type": "stream",
     "text": [
      "C:\\Users\\Admin\\anaconda3\\lib\\site-packages\\seaborn\\_decorators.py:36: FutureWarning: Pass the following variable as a keyword arg: x. From version 0.12, the only valid positional argument will be `data`, and passing other arguments without an explicit keyword will result in an error or misinterpretation.\n",
      "  warnings.warn(\n"
     ]
    },
    {
     "data": {
      "text/plain": [
       "Text(0.5, 1.0, 'Time')"
      ]
     },
     "execution_count": 19,
     "metadata": {},
     "output_type": "execute_result"
    },
    {
     "data": {
      "image/png": "[encoded data removed]",
      "text/plain": [
       "<Figure size 432x288 with 1 Axes>"
      ]
     },
     "metadata": {
      "needs_background": "light"
     },
     "output_type": "display_data"
    }
   ],
   "source": [
    "sns.boxplot(df.Time)\n",
    "plt.title('Time')"
   ]
  },
  {
   "cell_type": "code",
   "execution_count": 20,
   "id": "ba2ea728",
   "metadata": {},
   "outputs": [
    {
     "name": "stdout",
     "output_type": "stream",
     "text": [
      "                df        sum_sq       mean_sq            F  PR(>F)\n",
      "Class          1.0  9.439548e+08  9.439548e+08  12492.88503     0.0\n",
      "Residual  539380.0  4.075523e+10  7.555939e+04          NaN     NaN\n"
     ]
    }
   ],
   "source": [
    "annova=ols('Time ~Class',data=df).fit()\n",
    "an=sm.stats.anova_lm(annova)\n",
    "print(an.round(decimals=5))"
   ]
  },
  {
   "cell_type": "code",
   "execution_count": 22,
   "id": "3f7d7013",
   "metadata": {},
   "outputs": [
    {
     "data": {
      "text/plain": [
       "80.0     13338\n",
       "70.0     13086\n",
       "65.0     11894\n",
       "85.0     11840\n",
       "75.0     11813\n",
       "         ...  \n",
       "457.0        2\n",
       "481.0        2\n",
       "418.0        2\n",
       "417.0        2\n",
       "23.0         1\n",
       "Name: Length, Length: 426, dtype: int64"
      ]
     },
     "execution_count": 22,
     "metadata": {},
     "output_type": "execute_result"
    }
   ],
   "source": [
    "df.Length.value_counts()"
   ]
  },
  {
   "cell_type": "code",
   "execution_count": 23,
   "id": "5f654b19",
   "metadata": {},
   "outputs": [
    {
     "name": "stderr",
     "output_type": "stream",
     "text": [
      "C:\\Users\\Admin\\anaconda3\\lib\\site-packages\\seaborn\\distributions.py:2619: FutureWarning: `distplot` is a deprecated function and will be removed in a future version. Please adapt your code to use either `displot` (a figure-level function with similar flexibility) or `histplot` (an axes-level function for histograms).\n",
      "  warnings.warn(msg, FutureWarning)\n"
     ]
    },
    {
     "data": {
      "text/plain": [
       "Text(0.5, 1.0, 'Length')"
      ]
     },
     "execution_count": 23,
     "metadata": {},
     "output_type": "execute_result"
    },
    {
     "data": {
      "image/png": "[encoded data removed]",
      "text/plain": [
       "<Figure size 432x288 with 1 Axes>"
      ]
     },
     "metadata": {
      "needs_background": "light"
     },
     "output_type": "display_data"
    }
   ],
   "source": [
    "sns.distplot(df.Length)\n",
    "plt.title('Length')"
   ]
  },
  {
   "cell_type": "code",
   "execution_count": 24,
   "id": "908f50a6",
   "metadata": {},
   "outputs": [
    {
     "name": "stderr",
     "output_type": "stream",
     "text": [
      "C:\\Users\\Admin\\anaconda3\\lib\\site-packages\\seaborn\\_decorators.py:36: FutureWarning: Pass the following variable as a keyword arg: x. From version 0.12, the only valid positional argument will be `data`, and passing other arguments without an explicit keyword will result in an error or misinterpretation.\n",
      "  warnings.warn(\n"
     ]
    },
    {
     "data": {
      "text/plain": [
       "Text(0.5, 1.0, 'Length')"
      ]
     },
     "execution_count": 24,
     "metadata": {},
     "output_type": "execute_result"
    },
    {
     "data": {
      "image/png": "[encoded data removed]",
      "text/plain": [
       "<Figure size 432x288 with 1 Axes>"
      ]
     },
     "metadata": {
      "needs_background": "light"
     },
     "output_type": "display_data"
    }
   ],
   "source": [
    "sns.boxplot(df.Length)\n",
    "plt.title('Length')"
   ]
  },
  {
   "cell_type": "code",
   "execution_count": 25,
   "id": "6fac1090",
   "metadata": {},
   "outputs": [],
   "source": [
    "q1=df.Length.quantile(0.25)\n",
    "q3=df.Length.quantile(0.75)\n",
    "iqr=q3-q1\n",
    "upper_bond_Length=q3+(1.5*iqr)\n",
    "lower_bond_Length=q1-(1.5*iqr)\n",
    "df.Length=np.where(df.Length>upper_bond_Length,upper_bond_Length, np.where(df.Length <lower_bond_Length, lower_bond_Length, df.Length))"
   ]
  },
  {
   "cell_type": "code",
   "execution_count": 28,
   "id": "33eec9e8",
   "metadata": {},
   "outputs": [
    {
     "name": "stderr",
     "output_type": "stream",
     "text": [
      "C:\\Users\\Admin\\anaconda3\\lib\\site-packages\\seaborn\\_decorators.py:36: FutureWarning: Pass the following variable as a keyword arg: x. From version 0.12, the only valid positional argument will be `data`, and passing other arguments without an explicit keyword will result in an error or misinterpretation.\n",
      "  warnings.warn(\n"
     ]
    },
    {
     "data": {
      "text/plain": [
       "Text(0.5, 1.0, 'Length')"
      ]
     },
     "execution_count": 28,
     "metadata": {},
     "output_type": "execute_result"
    },
    {
     "data": {
      "image/png": "[encoded data removed]",
      "text/plain": [
       "<Figure size 432x288 with 1 Axes>"
      ]
     },
     "metadata": {
      "needs_background": "light"
     },
     "output_type": "display_data"
    }
   ],
   "source": [
    "sns.boxplot(df.Length)\n",
    "plt.title('Length')"
   ]
  },
  {
   "cell_type": "code",
   "execution_count": 46,
   "id": "42501be9",
   "metadata": {},
   "outputs": [
    {
     "name": "stdout",
     "output_type": "stream",
     "text": [
      "                df        sum_sq       mean_sq          F  PR(>F)\n",
      "Class          1.0  4.077521e+06  4.077521e+06  1050.5954     0.0\n",
      "Residual  539380.0  2.093416e+09  3.881152e+03        NaN     NaN\n"
     ]
    }
   ],
   "source": [
    "annova=ols('Length ~Class',data=df).fit()\n",
    "an=sm.stats.anova_lm(annova)\n",
    "print(an.round(decimals=5))"
   ]
  },
  {
   "cell_type": "code",
   "execution_count": 43,
   "id": "47c7be16",
   "metadata": {},
   "outputs": [
    {
     "data": {
      "text/plain": [
       "15    94097\n",
       "5     60940\n",
       "12    50254\n",
       "1     45656\n",
       "10    36604\n",
       "14    34500\n",
       "16    31126\n",
       "6     27983\n",
       "13    27619\n",
       "4     21118\n",
       "8     20827\n",
       "0     20686\n",
       "3     18112\n",
       "17    13725\n",
       "11    12630\n",
       "2     11471\n",
       "7      6456\n",
       "9      5578\n",
       "Name: Airline, dtype: int64"
      ]
     },
     "execution_count": 43,
     "metadata": {},
     "output_type": "execute_result"
    }
   ],
   "source": [
    "df.Airline.value_counts()"
   ]
  },
  {
   "cell_type": "code",
   "execution_count": 61,
   "id": "120c0ab9",
   "metadata": {},
   "outputs": [
    {
     "data": {
      "text/plain": [
       "<AxesSubplot:xlabel='Airline', ylabel='count'>"
      ]
     },
     "execution_count": 61,
     "metadata": {},
     "output_type": "execute_result"
    },
    {
     "data": {
      "image/png": "[encoded data removed]",
      "text/plain": [
       "<Figure size 432x288 with 1 Axes>"
      ]
     },
     "metadata": {
      "needs_background": "light"
     },
     "output_type": "display_data"
    }
   ],
   "source": [
    "sns.countplot(x='Airline',data=df)"
   ]
  },
  {
   "cell_type": "code",
   "execution_count": 62,
   "id": "852d22e2",
   "metadata": {},
   "outputs": [
    {
     "data": {
      "text/plain": [
       "(38193.24396148039,\n",
       " 0.0,\n",
       " 17,\n",
       " array([[11471.56365618, 25318.84899385,  6361.32199072, 10044.13424252,\n",
       "         11711.13222911, 33794.69637474, 15518.16522242,  3580.21922867,\n",
       "         11549.75617651,  3093.31828648, 20299.00010011,  7004.05341669,\n",
       "         27868.7015362 , 15316.30651746, 19132.21242088, 52182.13890341,\n",
       "         17261.13750181,  7611.29320222],\n",
       "        [ 9214.43634382, 20337.15100615,  5109.67800928,  8067.86575748,\n",
       "          9406.86777089, 27145.30362526, 12464.83477758,  2875.78077133,\n",
       "          9277.24382349,  2484.68171352, 16304.99989989,  5625.94658331,\n",
       "         22385.2984638 , 12302.69348254, 15367.78757912, 41914.86109659,\n",
       "         13864.86249819,  6113.70679778]]))"
      ]
     },
     "execution_count": 62,
     "metadata": {},
     "output_type": "execute_result"
    }
   ],
   "source": [
    "from scipy.stats import chi2_contingency\n",
    "ct=pd.crosstab(df.Class,df.Airline)\n",
    "chi2_contingency(ct,correction=False)"
   ]
  },
  {
   "cell_type": "code",
   "execution_count": 35,
   "id": "3cc8b916",
   "metadata": {},
   "outputs": [
    {
     "data": {
      "text/plain": [
       "ATL    34449\n",
       "ORD    24822\n",
       "DFW    22153\n",
       "DEN    19843\n",
       "LAX    16657\n",
       "       ...  \n",
       "MMH       16\n",
       "SJT       15\n",
       "GUM       10\n",
       "ADK        9\n",
       "ABR        2\n",
       "Name: AirportFrom, Length: 293, dtype: int64"
      ]
     },
     "execution_count": 35,
     "metadata": {},
     "output_type": "execute_result"
    }
   ],
   "source": [
    "df.AirportFrom.value_counts()"
   ]
  },
  {
   "cell_type": "code",
   "execution_count": 37,
   "id": "84966e69",
   "metadata": {},
   "outputs": [
    {
     "name": "stdout",
     "output_type": "stream",
     "text": [
      "<class 'pandas.core.frame.DataFrame'>\n",
      "RangeIndex: 539382 entries, 0 to 539381\n",
      "Data columns (total 8 columns):\n",
      " #   Column       Non-Null Count   Dtype  \n",
      "---  ------       --------------   -----  \n",
      " 0   Flight       539382 non-null  float64\n",
      " 1   Time         539382 non-null  float64\n",
      " 2   Length       539382 non-null  float64\n",
      " 3   Airline      539382 non-null  object \n",
      " 4   AirportFrom  539382 non-null  object \n",
      " 5   AirportTo    539382 non-null  object \n",
      " 6   DayOfWeek    539382 non-null  int64  \n",
      " 7   Class        539382 non-null  int64  \n",
      "dtypes: float64(3), int64(2), object(3)\n",
      "memory usage: 32.9+ MB\n"
     ]
    }
   ],
   "source": [
    "df.info()"
   ]
  },
  {
   "cell_type": "code",
   "execution_count": 38,
   "id": "301d591f",
   "metadata": {},
   "outputs": [],
   "source": [
    "from sklearn.preprocessing import LabelEncoder"
   ]
  },
  {
   "cell_type": "code",
   "execution_count": 39,
   "id": "096f484c",
   "metadata": {},
   "outputs": [],
   "source": [
    "encoder = LabelEncoder()\n",
    "\n",
    "df_encoded = df\n",
    "\n",
    "df_encoded[\"Airline\"] = encoder.fit_transform(df[\"Airline\"])\n",
    "df_encoded[\"AirportFrom\"] = encoder.fit_transform(df[\"AirportFrom\"])\n",
    "df_encoded[\"AirportTo\"] = encoder.fit_transform(df[\"AirportTo\"])"
   ]
  },
  {
   "cell_type": "code",
   "execution_count": 40,
   "id": "ad77757c",
   "metadata": {},
   "outputs": [
    {
     "name": "stdout",
     "output_type": "stream",
     "text": [
      "<class 'pandas.core.frame.DataFrame'>\n",
      "RangeIndex: 539382 entries, 0 to 539381\n",
      "Data columns (total 8 columns):\n",
      " #   Column       Non-Null Count   Dtype  \n",
      "---  ------       --------------   -----  \n",
      " 0   Flight       539382 non-null  float64\n",
      " 1   Time         539382 non-null  float64\n",
      " 2   Length       539382 non-null  float64\n",
      " 3   Airline      539382 non-null  int32  \n",
      " 4   AirportFrom  539382 non-null  int32  \n",
      " 5   AirportTo    539382 non-null  int32  \n",
      " 6   DayOfWeek    539382 non-null  int64  \n",
      " 7   Class        539382 non-null  int64  \n",
      "dtypes: float64(3), int32(3), int64(2)\n",
      "memory usage: 26.7 MB\n"
     ]
    }
   ],
   "source": [
    "df.info()"
   ]
  },
  {
   "cell_type": "code",
   "execution_count": 41,
   "id": "e0a67eaf",
   "metadata": {},
   "outputs": [
    {
     "data": {
      "text/plain": [
       "16     34449\n",
       "208    24822\n",
       "80     22153\n",
       "79     19843\n",
       "154    16657\n",
       "       ...  \n",
       "189       16\n",
       "259       15\n",
       "125       10\n",
       "8          9\n",
       "3          2\n",
       "Name: AirportFrom, Length: 293, dtype: int64"
      ]
     },
     "execution_count": 41,
     "metadata": {},
     "output_type": "execute_result"
    }
   ],
   "source": [
    "df.AirportFrom.value_counts()"
   ]
  },
  {
   "cell_type": "code",
   "execution_count": 42,
   "id": "ddb54e3c",
   "metadata": {},
   "outputs": [
    {
     "name": "stderr",
     "output_type": "stream",
     "text": [
      "C:\\Users\\Admin\\anaconda3\\lib\\site-packages\\seaborn\\distributions.py:2619: FutureWarning: `distplot` is a deprecated function and will be removed in a future version. Please adapt your code to use either `displot` (a figure-level function with similar flexibility) or `histplot` (an axes-level function for histograms).\n",
      "  warnings.warn(msg, FutureWarning)\n"
     ]
    },
    {
     "data": {
      "text/plain": [
       "Text(0.5, 1.0, 'AirportFrom')"
      ]
     },
     "execution_count": 42,
     "metadata": {},
     "output_type": "execute_result"
    },
    {
     "data": {
      "image/png": "[encoded data removed]",
      "text/plain": [
       "<Figure size 432x288 with 1 Axes>"
      ]
     },
     "metadata": {
      "needs_background": "light"
     },
     "output_type": "display_data"
    }
   ],
   "source": [
    "sns.distplot(df.AirportFrom)\n",
    "plt.title('AirportFrom')"
   ]
  },
  {
   "cell_type": "code",
   "execution_count": 48,
   "id": "00830360",
   "metadata": {},
   "outputs": [
    {
     "name": "stderr",
     "output_type": "stream",
     "text": [
      "C:\\Users\\Admin\\anaconda3\\lib\\site-packages\\seaborn\\_decorators.py:36: FutureWarning: Pass the following variable as a keyword arg: x. From version 0.12, the only valid positional argument will be `data`, and passing other arguments without an explicit keyword will result in an error or misinterpretation.\n",
      "  warnings.warn(\n"
     ]
    },
    {
     "data": {
      "text/plain": [
       "Text(0.5, 1.0, 'Airportfrom')"
      ]
     },
     "execution_count": 48,
     "metadata": {},
     "output_type": "execute_result"
    },
    {
     "data": {
      "image/png": "[encoded data removed]",
      "text/plain": [
       "<Figure size 432x288 with 1 Axes>"
      ]
     },
     "metadata": {
      "needs_background": "light"
     },
     "output_type": "display_data"
    }
   ],
   "source": [
    "sns.boxplot(df.AirportFrom)\n",
    "plt.title('Airportfrom')"
   ]
  },
  {
   "cell_type": "code",
   "execution_count": 49,
   "id": "6714e01e",
   "metadata": {},
   "outputs": [
    {
     "name": "stdout",
     "output_type": "stream",
     "text": [
      "                df        sum_sq       mean_sq          F  PR(>F)\n",
      "Class          1.0  1.157884e+06  1.157884e+06  183.81976     0.0\n",
      "Residual  539380.0  3.397564e+09  6.299018e+03        NaN     NaN\n"
     ]
    }
   ],
   "source": [
    "annova=ols('AirportFrom ~Class',data=df).fit()\n",
    "an=sm.stats.anova_lm(annova)\n",
    "print(an.round(decimals=5))"
   ]
  },
  {
   "cell_type": "code",
   "execution_count": 51,
   "id": "0ea70211",
   "metadata": {},
   "outputs": [
    {
     "data": {
      "text/plain": [
       "16     34440\n",
       "208    24871\n",
       "80     22153\n",
       "79     19848\n",
       "154    16656\n",
       "       ...  \n",
       "189       16\n",
       "259       15\n",
       "125       10\n",
       "8          9\n",
       "3          2\n",
       "Name: AirportTo, Length: 293, dtype: int64"
      ]
     },
     "execution_count": 51,
     "metadata": {},
     "output_type": "execute_result"
    }
   ],
   "source": [
    "df.AirportTo.value_counts()"
   ]
  },
  {
   "cell_type": "code",
   "execution_count": 52,
   "id": "beabb0b1",
   "metadata": {},
   "outputs": [
    {
     "name": "stderr",
     "output_type": "stream",
     "text": [
      "C:\\Users\\Admin\\anaconda3\\lib\\site-packages\\seaborn\\distributions.py:2619: FutureWarning: `distplot` is a deprecated function and will be removed in a future version. Please adapt your code to use either `displot` (a figure-level function with similar flexibility) or `histplot` (an axes-level function for histograms).\n",
      "  warnings.warn(msg, FutureWarning)\n"
     ]
    },
    {
     "data": {
      "text/plain": [
       "Text(0.5, 1.0, 'AirportTo')"
      ]
     },
     "execution_count": 52,
     "metadata": {},
     "output_type": "execute_result"
    },
    {
     "data": {
      "image/png": "[encoded data removed]",
      "text/plain": [
       "<Figure size 432x288 with 1 Axes>"
      ]
     },
     "metadata": {
      "needs_background": "light"
     },
     "output_type": "display_data"
    }
   ],
   "source": [
    "sns.distplot(df.AirportTo)\n",
    "plt.title('AirportTo')"
   ]
  },
  {
   "cell_type": "code",
   "execution_count": 53,
   "id": "dfef240f",
   "metadata": {},
   "outputs": [
    {
     "name": "stderr",
     "output_type": "stream",
     "text": [
      "C:\\Users\\Admin\\anaconda3\\lib\\site-packages\\seaborn\\_decorators.py:36: FutureWarning: Pass the following variable as a keyword arg: x. From version 0.12, the only valid positional argument will be `data`, and passing other arguments without an explicit keyword will result in an error or misinterpretation.\n",
      "  warnings.warn(\n"
     ]
    },
    {
     "data": {
      "text/plain": [
       "Text(0.5, 1.0, 'AirportTo')"
      ]
     },
     "execution_count": 53,
     "metadata": {},
     "output_type": "execute_result"
    },
    {
     "data": {
      "image/png": "[encoded data removed]",
      "text/plain": [
       "<Figure size 432x288 with 1 Axes>"
      ]
     },
     "metadata": {
      "needs_background": "light"
     },
     "output_type": "display_data"
    }
   ],
   "source": [
    "sns.boxplot(df.AirportTo)\n",
    "plt.title('AirportTo')"
   ]
  },
  {
   "cell_type": "code",
   "execution_count": 54,
   "id": "710314f4",
   "metadata": {},
   "outputs": [
    {
     "name": "stdout",
     "output_type": "stream",
     "text": [
      "                df        sum_sq       mean_sq           F  PR(>F)\n",
      "Class          1.0  7.821490e+06  7.821490e+06  1244.97798     0.0\n",
      "Residual  539380.0  3.388618e+09  6.282432e+03         NaN     NaN\n"
     ]
    }
   ],
   "source": [
    "annova=ols('AirportTo ~Class',data=df).fit()\n",
    "an=sm.stats.anova_lm(annova)\n",
    "print(an.round(decimals=5))"
   ]
  },
  {
   "cell_type": "code",
   "execution_count": 56,
   "id": "080eea3e",
   "metadata": {},
   "outputs": [
    {
     "data": {
      "text/plain": [
       "4    91445\n",
       "3    89746\n",
       "5    85247\n",
       "1    72769\n",
       "2    71340\n",
       "7    69879\n",
       "6    58956\n",
       "Name: DayOfWeek, dtype: int64"
      ]
     },
     "execution_count": 56,
     "metadata": {},
     "output_type": "execute_result"
    }
   ],
   "source": [
    "df.DayOfWeek.value_counts()"
   ]
  },
  {
   "cell_type": "code",
   "execution_count": 57,
   "id": "6ddc3da7",
   "metadata": {},
   "outputs": [
    {
     "name": "stderr",
     "output_type": "stream",
     "text": [
      "C:\\Users\\Admin\\anaconda3\\lib\\site-packages\\seaborn\\distributions.py:2619: FutureWarning: `distplot` is a deprecated function and will be removed in a future version. Please adapt your code to use either `displot` (a figure-level function with similar flexibility) or `histplot` (an axes-level function for histograms).\n",
      "  warnings.warn(msg, FutureWarning)\n"
     ]
    },
    {
     "data": {
      "text/plain": [
       "Text(0.5, 1.0, 'DayOfWeek')"
      ]
     },
     "execution_count": 57,
     "metadata": {},
     "output_type": "execute_result"
    },
    {
     "data": {
      "image/png": "[encoded data removed]",
      "text/plain": [
       "<Figure size 432x288 with 1 Axes>"
      ]
     },
     "metadata": {
      "needs_background": "light"
     },
     "output_type": "display_data"
    }
   ],
   "source": [
    "sns.distplot(df.DayOfWeek)\n",
    "plt.title('DayOfWeek')"
   ]
  },
  {
   "cell_type": "code",
   "execution_count": 58,
   "id": "de9fd037",
   "metadata": {},
   "outputs": [
    {
     "name": "stderr",
     "output_type": "stream",
     "text": [
      "C:\\Users\\Admin\\anaconda3\\lib\\site-packages\\seaborn\\_decorators.py:36: FutureWarning: Pass the following variable as a keyword arg: x. From version 0.12, the only valid positional argument will be `data`, and passing other arguments without an explicit keyword will result in an error or misinterpretation.\n",
      "  warnings.warn(\n"
     ]
    },
    {
     "data": {
      "text/plain": [
       "Text(0.5, 1.0, 'DayOfWeek')"
      ]
     },
     "execution_count": 58,
     "metadata": {},
     "output_type": "execute_result"
    },
    {
     "data": {
      "image/png": "[encoded data removed]",
      "text/plain": [
       "<Figure size 432x288 with 1 Axes>"
      ]
     },
     "metadata": {
      "needs_background": "light"
     },
     "output_type": "display_data"
    }
   ],
   "source": [
    "sns.boxplot(df.DayOfWeek)\n",
    "plt.title('DayOfWeek')"
   ]
  },
  {
   "cell_type": "code",
   "execution_count": 59,
   "id": "fc5159cb",
   "metadata": {},
   "outputs": [
    {
     "name": "stdout",
     "output_type": "stream",
     "text": [
      "                df        sum_sq     mean_sq          F  PR(>F)\n",
      "Class          1.0  1.357158e+03  1357.15829  370.46059     0.0\n",
      "Residual  539380.0  1.975984e+06     3.66344        NaN     NaN\n"
     ]
    }
   ],
   "source": [
    "annova=ols('DayOfWeek ~Class',data=df).fit()\n",
    "an=sm.stats.anova_lm(annova)\n",
    "print(an.round(decimals=5))"
   ]
  },
  {
   "cell_type": "code",
   "execution_count": 60,
   "id": "e8c47640",
   "metadata": {},
   "outputs": [
    {
     "name": "stdout",
     "output_type": "stream",
     "text": [
      "<class 'pandas.core.frame.DataFrame'>\n",
      "RangeIndex: 539382 entries, 0 to 539381\n",
      "Data columns (total 8 columns):\n",
      " #   Column       Non-Null Count   Dtype  \n",
      "---  ------       --------------   -----  \n",
      " 0   Flight       539382 non-null  float64\n",
      " 1   Time         539382 non-null  float64\n",
      " 2   Length       539382 non-null  float64\n",
      " 3   Airline      539382 non-null  int32  \n",
      " 4   AirportFrom  539382 non-null  int32  \n",
      " 5   AirportTo    539382 non-null  int32  \n",
      " 6   DayOfWeek    539382 non-null  int64  \n",
      " 7   Class        539382 non-null  int64  \n",
      "dtypes: float64(3), int32(3), int64(2)\n",
      "memory usage: 26.7 MB\n"
     ]
    }
   ],
   "source": [
    "df.info()"
   ]
  },
  {
   "cell_type": "code",
   "execution_count": 64,
   "id": "b7798e98",
   "metadata": {},
   "outputs": [],
   "source": [
    "x=df.iloc[:,[0,1,2,4,5,6]]"
   ]
  },
  {
   "cell_type": "code",
   "execution_count": 65,
   "id": "a85d5299",
   "metadata": {},
   "outputs": [],
   "source": [
    "from statsmodels.stats.outliers_influence import variance_inflation_factor\n",
    "vif_data=pd.DataFrame()\n",
    "vif_data['feature']=x.columns"
   ]
  },
  {
   "cell_type": "code",
   "execution_count": 66,
   "id": "555d2e16",
   "metadata": {},
   "outputs": [],
   "source": [
    "vif_data['VIF']=[variance_inflation_factor(x.values,i) for i in range(len(x.columns))]"
   ]
  },
  {
   "cell_type": "code",
   "execution_count": 67,
   "id": "0857ff9b",
   "metadata": {},
   "outputs": [
    {
     "name": "stdout",
     "output_type": "stream",
     "text": [
      "       feature       VIF\n",
      "0       Flight  2.296506\n",
      "1         Time  6.389030\n",
      "2       Length  4.743668\n",
      "3  AirportFrom  3.826203\n",
      "4    AirportTo  3.972021\n",
      "5    DayOfWeek  4.465242\n"
     ]
    }
   ],
   "source": [
    "print(vif_data)"
   ]
  },
  {
   "cell_type": "markdown",
   "id": "4850dc14",
   "metadata": {},
   "source": [
    "# MODEL SPLITTING THE MODELS"
   ]
  },
  {
   "cell_type": "code",
   "execution_count": 69,
   "id": "0414b6b0",
   "metadata": {},
   "outputs": [],
   "source": [
    "x=df.iloc[:,df.columns!='Class']"
   ]
  },
  {
   "cell_type": "code",
   "execution_count": 70,
   "id": "6e2a2fa9",
   "metadata": {},
   "outputs": [],
   "source": [
    "y=df.iloc[:,df.columns=='Class']"
   ]
  },
  {
   "cell_type": "code",
   "execution_count": 71,
   "id": "37439fa6",
   "metadata": {},
   "outputs": [],
   "source": [
    "from sklearn.model_selection import train_test_split"
   ]
  },
  {
   "cell_type": "code",
   "execution_count": 72,
   "id": "c58c1fa3",
   "metadata": {},
   "outputs": [],
   "source": [
    "x_train,x_test,y_train,y_test=train_test_split(x,y,test_size=0.20,random_state=44)"
   ]
  },
  {
   "cell_type": "code",
   "execution_count": 73,
   "id": "23ceeae0",
   "metadata": {},
   "outputs": [],
   "source": [
    "from sklearn.linear_model import LogisticRegression"
   ]
  },
  {
   "cell_type": "code",
   "execution_count": 74,
   "id": "54583d08",
   "metadata": {},
   "outputs": [
    {
     "name": "stderr",
     "output_type": "stream",
     "text": [
      "C:\\Users\\Admin\\anaconda3\\lib\\site-packages\\sklearn\\utils\\validation.py:993: DataConversionWarning: A column-vector y was passed when a 1d array was expected. Please change the shape of y to (n_samples, ), for example using ravel().\n",
      "  y = column_or_1d(y, warn=True)\n"
     ]
    },
    {
     "data": {
      "text/plain": [
       "array([[-4.26404299e-05,  1.01744772e-03,  1.22980157e-03,\n",
       "         2.71190405e-02,  9.81866220e-05,  6.71163058e-04,\n",
       "        -3.57415624e-02]])"
      ]
     },
     "execution_count": 74,
     "metadata": {},
     "output_type": "execute_result"
    }
   ],
   "source": [
    "log=LogisticRegression(solver='liblinear',random_state=0)\n",
    "log.fit(x_train,y_train)\n",
    "log.intercept_\n",
    "log.coef_"
   ]
  },
  {
   "cell_type": "code",
   "execution_count": 75,
   "id": "36795b78",
   "metadata": {},
   "outputs": [
    {
     "name": "stdout",
     "output_type": "stream",
     "text": [
      "107877\n"
     ]
    }
   ],
   "source": [
    "y_pred=log.predict(x_test)\n",
    "print(len(y_pred))"
   ]
  },
  {
   "cell_type": "markdown",
   "id": "b3636c3c",
   "metadata": {},
   "source": [
    "# confusion matrix"
   ]
  },
  {
   "cell_type": "code",
   "execution_count": 76,
   "id": "46677bb5",
   "metadata": {},
   "outputs": [
    {
     "name": "stdout",
     "output_type": "stream",
     "text": [
      "[[46176 13805]\n",
      " [31078 16818]]\n"
     ]
    }
   ],
   "source": [
    "from sklearn import metrics\n",
    "cm=metrics.confusion_matrix(y_test,y_pred)\n",
    "print(cm)"
   ]
  },
  {
   "cell_type": "markdown",
   "id": "50e22e12",
   "metadata": {},
   "source": [
    "# accuracy score"
   ]
  },
  {
   "cell_type": "code",
   "execution_count": 77,
   "id": "fb7a3297",
   "metadata": {},
   "outputs": [
    {
     "data": {
      "text/plain": [
       "0.5839428237715175"
      ]
     },
     "execution_count": 77,
     "metadata": {},
     "output_type": "execute_result"
    }
   ],
   "source": [
    "from sklearn.metrics import accuracy_score\n",
    "accuracy_score(y_test,y_pred)"
   ]
  },
  {
   "cell_type": "markdown",
   "id": "682d04a4",
   "metadata": {},
   "source": [
    "# clasification report"
   ]
  },
  {
   "cell_type": "code",
   "execution_count": 78,
   "id": "08a92b06",
   "metadata": {},
   "outputs": [
    {
     "name": "stdout",
     "output_type": "stream",
     "text": [
      "              precision    recall  f1-score   support\n",
      "\n",
      "           0       0.60      0.77      0.67     59981\n",
      "           1       0.55      0.35      0.43     47896\n",
      "\n",
      "    accuracy                           0.58    107877\n",
      "   macro avg       0.57      0.56      0.55    107877\n",
      "weighted avg       0.58      0.58      0.56    107877\n",
      "\n"
     ]
    }
   ],
   "source": [
    "from sklearn.metrics import classification_report\n",
    "print(classification_report(y_test,y_pred))"
   ]
  },
  {
   "cell_type": "markdown",
   "id": "548cb041",
   "metadata": {},
   "source": [
    "# Roc curve and auc curve"
   ]
  },
  {
   "cell_type": "code",
   "execution_count": 79,
   "id": "9e05cc95",
   "metadata": {},
   "outputs": [],
   "source": [
    "from sklearn.metrics import roc_curve,auc,roc_auc_score"
   ]
  },
  {
   "cell_type": "code",
   "execution_count": 80,
   "id": "32061d2e",
   "metadata": {},
   "outputs": [
    {
     "name": "stdout",
     "output_type": "stream",
     "text": [
      "0.6080852646082361\n"
     ]
    }
   ],
   "source": [
    "y_pred_prob=log.predict_proba(x)\n",
    "fpr,tpr,thresholds=roc_curve(df['Class'],y_pred_prob[:,1])\n",
    "roc_auc=auc(fpr,tpr)\n",
    "print(roc_auc)"
   ]
  },
  {
   "cell_type": "code",
   "execution_count": 81,
   "id": "ed9ddbd3",
   "metadata": {},
   "outputs": [
    {
     "data": {
      "image/png": "[encoded data removed]",
      "text/plain": [
       "<Figure size 432x288 with 1 Axes>"
      ]
     },
     "metadata": {
      "needs_background": "light"
     },
     "output_type": "display_data"
    }
   ],
   "source": [
    "# roc curve\n",
    "plt.title('roc curve for logreg:liblinear')\n",
    "plt.xlabel('false positive rate')\n",
    "plt.ylabel('true positive rate')\n",
    "plt.plot([0,1],[0,1],'r--')\n",
    "plt.xlim([0,1])\n",
    "plt.ylim([0,1])\n",
    "plt.plot(fpr,tpr,label='AUC='+str(roc_auc))\n",
    "plt.legend(loc=4)\n",
    "plt.show()"
   ]
  },
  {
   "cell_type": "markdown",
   "id": "987955bb",
   "metadata": {},
   "source": [
    "# SMOTE"
   ]
  },
  {
   "cell_type": "code",
   "execution_count": 84,
   "id": "e4b97c45",
   "metadata": {},
   "outputs": [],
   "source": [
    "noclass=df[df.Class==0]\n",
    "Class=df[df.Class==1]"
   ]
  },
  {
   "cell_type": "code",
   "execution_count": 85,
   "id": "41eb759d",
   "metadata": {},
   "outputs": [],
   "source": [
    "from sklearn.utils import resample"
   ]
  },
  {
   "cell_type": "code",
   "execution_count": 89,
   "id": "ba28f4af",
   "metadata": {},
   "outputs": [],
   "source": [
    "Class_oversample=resample(Class,\n",
    "                        replace=True,\n",
    "                        n_samples=len(noclass),\n",
    "                        random_state=27)"
   ]
  },
  {
   "cell_type": "code",
   "execution_count": 91,
   "id": "2f64429b",
   "metadata": {},
   "outputs": [
    {
     "data": {
      "text/plain": [
       "0    299118\n",
       "1    299118\n",
       "Name: Class, dtype: int64"
      ]
     },
     "execution_count": 91,
     "metadata": {},
     "output_type": "execute_result"
    }
   ],
   "source": [
    "#combine majority and oversampled minority\n",
    "df=pd.concat([noclass,Class_oversample])\n",
    "df.Class.value_counts()"
   ]
  },
  {
   "cell_type": "code",
   "execution_count": 101,
   "id": "acbdd763",
   "metadata": {},
   "outputs": [],
   "source": [
    "x=df.loc[:,df.columns!='Class']\n",
    "y=df.loc[:,df.columns=='Class']"
   ]
  },
  {
   "cell_type": "code",
   "execution_count": 102,
   "id": "fd28ba2d",
   "metadata": {},
   "outputs": [
    {
     "name": "stderr",
     "output_type": "stream",
     "text": [
      "C:\\Users\\Admin\\anaconda3\\lib\\site-packages\\sklearn\\utils\\validation.py:993: DataConversionWarning: A column-vector y was passed when a 1d array was expected. Please change the shape of y to (n_samples, ), for example using ravel().\n",
      "  y = column_or_1d(y, warn=True)\n"
     ]
    },
    {
     "data": {
      "text/plain": [
       "array([[-4.26404299e-05,  1.01744772e-03,  1.22980157e-03,\n",
       "         2.71190405e-02,  9.81866220e-05,  6.71163058e-04,\n",
       "        -3.57415624e-02]])"
      ]
     },
     "execution_count": 102,
     "metadata": {},
     "output_type": "execute_result"
    }
   ],
   "source": [
    "log1=LogisticRegression(solver='liblinear',random_state=0)\n",
    "log1.fit(x_train,y_train)\n",
    "log1.intercept_\n",
    "log1.coef_"
   ]
  },
  {
   "cell_type": "code",
   "execution_count": 103,
   "id": "7fe8016d",
   "metadata": {},
   "outputs": [
    {
     "data": {
      "text/plain": [
       "107877"
      ]
     },
     "execution_count": 103,
     "metadata": {},
     "output_type": "execute_result"
    }
   ],
   "source": [
    "# predictions\n",
    "y_pred2=log1.predict(x_test)\n",
    "len(y_pred2)"
   ]
  },
  {
   "cell_type": "code",
   "execution_count": 104,
   "id": "5e3a4409",
   "metadata": {},
   "outputs": [
    {
     "name": "stdout",
     "output_type": "stream",
     "text": [
      "[[46176 13805]\n",
      " [31078 16818]]\n"
     ]
    }
   ],
   "source": [
    "from sklearn import metrics\n",
    "cm1=metrics.confusion_matrix(y_test, y_pred2)\n",
    "print(cm1)"
   ]
  },
  {
   "cell_type": "code",
   "execution_count": 105,
   "id": "f560f7d3",
   "metadata": {},
   "outputs": [],
   "source": [
    "# accuracy score\n"
   ]
  },
  {
   "cell_type": "code",
   "execution_count": 106,
   "id": "c3357bb3",
   "metadata": {},
   "outputs": [
    {
     "data": {
      "text/plain": [
       "0.5839428237715175"
      ]
     },
     "execution_count": 106,
     "metadata": {},
     "output_type": "execute_result"
    }
   ],
   "source": [
    "log1.score(x_test,y_test)"
   ]
  },
  {
   "cell_type": "markdown",
   "id": "af8392a7",
   "metadata": {},
   "source": [
    "# CLASSIFication report"
   ]
  },
  {
   "cell_type": "code",
   "execution_count": 107,
   "id": "40bf3732",
   "metadata": {},
   "outputs": [
    {
     "name": "stdout",
     "output_type": "stream",
     "text": [
      "              precision    recall  f1-score   support\n",
      "\n",
      "           0       0.60      0.77      0.67     59981\n",
      "           1       0.55      0.35      0.43     47896\n",
      "\n",
      "    accuracy                           0.58    107877\n",
      "   macro avg       0.57      0.56      0.55    107877\n",
      "weighted avg       0.58      0.58      0.56    107877\n",
      "\n"
     ]
    }
   ],
   "source": [
    "print(classification_report(y_test,y_pred2))"
   ]
  },
  {
   "cell_type": "code",
   "execution_count": 108,
   "id": "b81a5d61",
   "metadata": {
    "scrolled": true
   },
   "outputs": [
    {
     "name": "stdout",
     "output_type": "stream",
     "text": [
      "0.6076068731757264\n"
     ]
    }
   ],
   "source": [
    "y_pred_prob=log1.predict_proba(x)\n",
    "fpr,tpr,thresholds=roc_curve(df['Class'],y_pred_prob[:,1])\n",
    "roc_auc=auc(fpr,tpr)\n",
    "print(roc_auc)"
   ]
  },
  {
   "cell_type": "code",
   "execution_count": 98,
   "id": "70a3e2d2",
   "metadata": {},
   "outputs": [
    {
     "data": {
      "image/png": "[encoded data removed]",
      "text/plain": [
       "<Figure size 432x288 with 1 Axes>"
      ]
     },
     "metadata": {
      "needs_background": "light"
     },
     "output_type": "display_data"
    }
   ],
   "source": [
    "plt.title('roc curve for logreg:liblinear')\n",
    "plt.xlabel('false positive rate')\n",
    "plt.ylabel('true positive rate')\n",
    "plt.plot([0,1],[0,1],'r--')\n",
    "plt.xlim([0,1])\n",
    "plt.ylim([0,1])\n",
    "plt.plot(fpr,tpr,label='AUC='+str(roc_auc))\n",
    "plt.legend(loc=4)\n",
    "plt.show()\n"
   ]
  },
  {
   "cell_type": "code",
   "execution_count": null,
   "id": "288f4986",
   "metadata": {},
   "outputs": [],
   "source": []
  }
 ],
 "metadata": {
  "kernelspec": {
   "display_name": "Python 3 (ipykernel)",
   "language": "python",
   "name": "python3"
  },
  "language_info": {
   "codemirror_mode": {
    "name": "ipython",
    "version": 3
   },
   "file_extension": ".py",
   "mimetype": "text/x-python",
   "name": "python",
   "nbconvert_exporter": "python",
   "pygments_lexer": "ipython3",
   "version": "3.9.12"
  }
 },
 "nbformat": 4,
 "nbformat_minor": 5
}
